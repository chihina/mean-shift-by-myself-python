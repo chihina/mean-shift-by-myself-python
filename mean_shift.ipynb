{
 "cells": [
  {
   "cell_type": "markdown",
   "metadata": {},
   "source": [
    "# Implement mean-shift algorithm (For 2D data)"
   ]
  },
  {
   "cell_type": "markdown",
   "metadata": {},
   "source": [
    "## Import library"
   ]
  },
  {
   "cell_type": "code",
   "execution_count": 1,
   "metadata": {},
   "outputs": [],
   "source": [
    "import numpy as np\n",
    "import pandas as pd\n",
    "import matplotlib.pyplot as plt"
   ]
  },
  {
   "cell_type": "markdown",
   "metadata": {},
   "source": [
    "## Generate sample data (to check algorithm correctly)"
   ]
  },
  {
   "cell_type": "markdown",
   "metadata": {},
   "source": [
    "### Generate circule dataset"
   ]
  },
  {
   "cell_type": "code",
   "execution_count": 2,
   "metadata": {},
   "outputs": [
    {
     "name": "stderr",
     "output_type": "stream",
     "text": [
      "No handles with labels found to put in legend.\n"
     ]
    },
    {
     "name": "stdout",
     "output_type": "stream",
     "text": [
      "(32, 2)\n"
     ]
    },
    {
     "data": {
      "image/png": "[encoded data removed]",
      "text/plain": [
       "<Figure size 432x288 with 1 Axes>"
      ]
     },
     "metadata": {
      "needs_background": "light"
     },
     "output_type": "display_data"
    }
   ],
   "source": [
    "x_1 = np.arange(0, 4, 0.5)\n",
    "x_2 = np.arange(5, 9, 0.5)\n",
    "\n",
    "y_1_top = 2 + (4 - (x_1 - 2) ** 2) ** 0.5\n",
    "y_2_top = 7 + (4 - (x_2 - 7) ** 2) ** 0.5\n",
    "\n",
    "y_1_bottom = 2 - (4 - (x_1 - 2) ** 2) ** 0.5\n",
    "y_2_bottom = 7 - (4 - (x_2 - 7) ** 2) ** 0.5\n",
    "\n",
    "x_1_data = np.concatenate([x_1, x_1])\n",
    "x_2_data = np.concatenate([x_2, x_2])\n",
    "\n",
    "y_1_data = np.concatenate([y_1_top, y_1_bottom])\n",
    "y_2_data = np.concatenate([y_2_top, y_2_bottom])\n",
    "\n",
    "plt.figure()\n",
    "plt.scatter(x_1_data, y_1_data)\n",
    "plt.scatter(x_2_data, y_2_data)\n",
    "plt.legend()\n",
    "\n",
    "x_all = np.concatenate([x_1_data, x_2_data])\n",
    "y_all = np.concatenate([y_1_data, y_2_data])\n",
    "\n",
    "circule_data = np.vstack([[x_all], [y_all]]).T\n",
    "print(circule_data.shape)"
   ]
  },
  {
   "cell_type": "markdown",
   "metadata": {},
   "source": [
    "### Genarate rectangle dataset"
   ]
  },
  {
   "cell_type": "code",
   "execution_count": 3,
   "metadata": {},
   "outputs": [
    {
     "name": "stderr",
     "output_type": "stream",
     "text": [
      "No handles with labels found to put in legend.\n"
     ]
    },
    {
     "name": "stdout",
     "output_type": "stream",
     "text": [
      "(72, 2)\n"
     ]
    },
    {
     "data": {
      "image/png": "[encoded data removed]",
      "text/plain": [
       "<Figure size 432x288 with 1 Axes>"
      ]
     },
     "metadata": {
      "needs_background": "light"
     },
     "output_type": "display_data"
    }
   ],
   "source": [
    "rectangle_x_1_base = np.arange(0, 4.5, 0.5)\n",
    "rectangle_x_1 = np.concatenate([rectangle_x_1_base for _ in range(1, 5)])\n",
    "rectangle_y_1_base = np.ones(rectangle_x_1_base.shape[0])\n",
    "rectangle_y_1 = np.concatenate([rectangle_y_1_base *scale for scale in range(1, 5)])\n",
    "\n",
    "rectangle_x_2_base = np.arange(8, 12.5, 0.5)\n",
    "rectangle_x_2 = np.concatenate([rectangle_x_2_base for _ in range(1, 5)])\n",
    "rectangle_y_2_base = np.ones(rectangle_x_2_base.shape[0]) * 3\n",
    "rectangle_y_2 = np.concatenate([rectangle_y_2_base *scale for scale in range(1, 5)])\n",
    "\n",
    "plt.figure()\n",
    "plt.scatter(rectangle_x_1, rectangle_y_1)\n",
    "plt.scatter(rectangle_x_2, rectangle_y_2)\n",
    "plt.legend()\n",
    "\n",
    "rectangle_x_all = np.concatenate([rectangle_x_1, rectangle_x_2])\n",
    "rectangle_y_all = np.concatenate([rectangle_y_1, rectangle_y_2])\n",
    "rectangle_data = np.vstack([[rectangle_x_all], [rectangle_y_all]]).T\n",
    "print(rectangle_data.shape)"
   ]
  },
  {
   "cell_type": "markdown",
   "metadata": {},
   "source": [
    "### Generate iris dataset"
   ]
  },
  {
   "cell_type": "code",
   "execution_count": 4,
   "metadata": {},
   "outputs": [
    {
     "name": "stdout",
     "output_type": "stream",
     "text": [
      "['Setosa' 'Versicolor' 'Virginica']\n",
      "Index(['sepal.length', 'sepal.width', 'petal.length', 'petal.width',\n",
      "       'variety'],\n",
      "      dtype='object')\n"
     ]
    },
    {
     "data": {
      "image/png": "[encoded data removed]",
      "text/plain": [
       "<Figure size 432x288 with 1 Axes>"
      ]
     },
     "metadata": {
      "needs_background": "light"
     },
     "output_type": "display_data"
    }
   ],
   "source": [
    "from sklearn.datasets import load_iris\n",
    "iris_df = pd.read_csv(filepath_or_buffer=\"iris.csv\", encoding=\"ms932\", sep=\",\")\n",
    "print(iris_df[\"variety\"].unique())\n",
    "print(iris_df.columns)\n",
    "\n",
    "plt.scatter(iris_df[iris_df[\"variety\"] == \"Setosa\"][\"petal.length\"], iris_df[iris_df[\"variety\"] == \"Setosa\"][\"petal.width\"], label=\"Setosa\")\n",
    "plt.scatter(iris_df[iris_df[\"variety\"] == \"Versicolor\"][\"petal.length\"], iris_df[iris_df[\"variety\"] == \"Versicolor\"][\"petal.width\"], label=\"Versicolor\")\n",
    "plt.scatter(iris_df[iris_df[\"variety\"] == \"Virginica\"][\"petal.length\"], iris_df[iris_df[\"variety\"] == \"Virginica\"][\"petal.width\"], label=\"Virginica\")\n",
    "plt.legend()\n",
    "\n",
    "iris_data = iris_df.loc[:,['petal.length','petal.width']].values"
   ]
  },
  {
   "cell_type": "markdown",
   "metadata": {},
   "source": [
    "## Define mean-shift class"
   ]
  },
  {
   "cell_type": "code",
   "execution_count": 29,
   "metadata": {},
   "outputs": [],
   "source": [
    "# For scaling\n",
    "from sklearn import preprocessing\n",
    "\n",
    "class MeanShift:\n",
    "    \n",
    "    #     initialization of kmeans class\n",
    "    def __init__(self, kernel_size):\n",
    "                \n",
    "        #         define color map to plot data (if cluster numbers > color number, we can use same color)\n",
    "        self.color_map = [\"r\", \"g\", \"b\", \"c\", \"m\", \"y\", \"k\", \"w\"]\n",
    "        \n",
    "        self.kernel_size = kernel_size\n",
    "        \n",
    "    #         set input data\n",
    "    def set_datasets(self, sample_data):\n",
    "\n",
    "        self.sample_num = sample_data.shape[0]\n",
    "        self.sample_features = sample_data.shape[1]\n",
    "        \n",
    "        #         scale input data\n",
    "        min_max_scaler = preprocessing.MinMaxScaler()\n",
    "        sample_data_min_max = min_max_scaler.fit_transform(sample_data)\n",
    "        self.sample_data = sample_data_min_max\n",
    "\n",
    "    \n",
    "    #     training input data\n",
    "    def fit(self, sample_data):\n",
    "        \n",
    "        #         set input data\n",
    "        self.set_datasets(sample_data)\n",
    "        \n",
    "        #         define matrix to save result data\n",
    "        self.clustering_array = np.zeros((self.sample_num, self.sample_num), dtype=np.bool)\n",
    "        \n",
    "        for sample_idx in range(self.sample_num):\n",
    "            self.each_point_search(sample_idx)\n",
    "        \n",
    "    #     serching for each point\n",
    "    def each_point_search(self, sample_idx):\n",
    "        \n",
    "        #         get coordinates of the initial point\n",
    "        initial_sample_coord = self.sample_data[sample_idx, :]\n",
    "        \n",
    "        #         flag to judgment initial search and covergence\n",
    "        initial_flag = True\n",
    "        \n",
    "        while True:\n",
    "            \n",
    "#             visualize\n",
    "#             self.visualize_data(initial_sample_coord)\n",
    "            \n",
    "#             get indexs within circule define by kernel size and average points of them\n",
    "            max_x, min_x = initial_sample_coord[0] + self.kernel_size, initial_sample_coord[0] - self.kernel_size\n",
    "            max_y, min_y = initial_sample_coord[1] + self.kernel_size, initial_sample_coord[1] - self.kernel_size\n",
    "            within_circule_bool = np.where((max_x > self.sample_data[:, 0] ) & (min_x < self.sample_data[:, 0]) &\n",
    "                                            (max_y > self.sample_data[:, 1] ) & (min_y < self.sample_data[:, 1]),\n",
    "                                            True, False)\n",
    "            within_circule_point_coord = self.sample_data[within_circule_bool]\n",
    "            within_circule_point_coord_mean = np.mean(within_circule_point_coord, axis=0)\n",
    "            \n",
    "#             収束判定\n",
    "            if initial_flag:\n",
    "                initial_flag = False\n",
    "                before_within_circule_bool = within_circule_bool\n",
    "            else:\n",
    "                compare_within_circile_bool = before_within_circule_bool ^ within_circule_bool\n",
    "                before_within_circule_bool = within_circule_bool\n",
    "                \n",
    "#                 収束したら break する\n",
    "                if np.sum(compare_within_circile_bool) == 0:\n",
    "                    self.clustering_array[sample_idx, :] = within_circule_bool\n",
    "                    break\n",
    "            \n",
    "#             update centoid points of circule\n",
    "            initial_sample_coord = within_circule_point_coord_mean\n",
    "                    \n",
    "    #     visualize clustering result of each iteration\n",
    "    def visualize_data(self, centroid_coord):\n",
    "        \n",
    "        figure, axes = plt.subplots()\n",
    "        draw_circle = plt.Circle((centroid_coord[0], centroid_coord[1]), self.kernel_size, fill=False)\n",
    "        \n",
    "        axes.add_artist(draw_circle)\n",
    "        axes.scatter(centroid_coord[0], centroid_coord[-1], marker=\"x\", s=100)\n",
    "        axes.scatter(self.sample_data[:, 0], self.sample_data[:, 1], alpha=0.2)\n",
    "        axes.legend()\n",
    "        \n",
    "    def predict(self):\n",
    "        \n",
    "        #         Defone array to save clustered points infomations\n",
    "        self.clustered_array = np.zeros((1, self.sample_num), dtype=np.bool)\n",
    "        \n",
    "        #         define cluster number \n",
    "        cluster_number = 0\n",
    "        \n",
    "        #         check each sample point result\n",
    "        for sample_idx in range(self.sample_num):\n",
    "            \n",
    "            #             check whether the cluster is ploted or not\n",
    "            compare_clusterd_array = self.clustered_array ^ self.clustering_array[sample_idx, :]\n",
    "            compare_clusterd_array_sum = np.sum(compare_clusterd_array, axis=1)\n",
    "            \n",
    "           \n",
    "            \n",
    "            #             if the cluster have ploted\n",
    "            if np.any(compare_clusterd_array_sum == 0):\n",
    "                pass\n",
    "\n",
    "            else:\n",
    "                \n",
    "                #                 find points which are convergenced the same point\n",
    "                points_same_convergemce_bool = np.all(self.clustering_array == self.clustering_array[sample_idx, :], axis=1)\n",
    "            \n",
    "                #                 plot clustering sample\n",
    "                plt.scatter(self.sample_data[points_same_convergemce_bool][:, 0],\n",
    "                            self.sample_data[points_same_convergemce_bool][:, 1],\n",
    "                            label=\"Cluster:{}\".format(cluster_number + 1), color=self.color_map[cluster_number % 8], \n",
    "                            alpha=0.3)\n",
    "                \n",
    "                plt.xlim(-0.1, 1.1)\n",
    "                plt.ylim(-0.1, 1.1)\n",
    "                plt.legend()\n",
    "                \n",
    "                #                 save clustered sample data infomation\n",
    "                self.clustered_array = np.vstack([self.clustered_array, self.clustering_array[sample_idx, :]])\n",
    "                \n",
    "                #                 update cluster nunmber\n",
    "                cluster_number += 1"
   ]
  },
  {
   "cell_type": "markdown",
   "metadata": {},
   "source": [
    "## Execute mean-shift algorithm using datasets which you want to test  \n",
    "(Circle, Rectangle, Iris)"
   ]
  },
  {
   "cell_type": "code",
   "execution_count": 32,
   "metadata": {},
   "outputs": [
    {
     "data": {
      "image/png": "[encoded data removed]",
      "text/plain": [
       "<Figure size 432x288 with 1 Axes>"
      ]
     },
     "metadata": {
      "needs_background": "light"
     },
     "output_type": "display_data"
    }
   ],
   "source": [
    "# set some parameters\n",
    "sample_data = iris_data\n",
    "kernel_size = 0.3\n",
    "\n",
    "# make instance of MeanShift class\n",
    "mean_shift = MeanShift(kernel_size)\n",
    "\n",
    "# train dataset\n",
    "mean_shift.fit(sample_data)\n",
    "\n",
    "# cluster dataset\n",
    "mean_shift.predict()"
   ]
  }
 ],
 "metadata": {
  "kernelspec": {
   "display_name": "Python 3",
   "language": "python",
   "name": "python3"
  },
  "language_info": {
   "codemirror_mode": {
    "name": "ipython",
    "version": 3
   },
   "file_extension": ".py",
   "mimetype": "text/x-python",
   "name": "python",
   "nbconvert_exporter": "python",
   "pygments_lexer": "ipython3",
   "version": "3.7.1"
  },
  "toc": {
   "base_numbering": 1,
   "nav_menu": {},
   "number_sections": true,
   "sideBar": true,
   "skip_h1_title": false,
   "title_cell": "Table of Contents",
   "title_sidebar": "Contents",
   "toc_cell": false,
   "toc_position": {
    "height": "calc(100% - 180px)",
    "left": "10px",
    "top": "150px",
    "width": "383.984px"
   },
   "toc_section_display": true,
   "toc_window_display": true
  }
 },
 "nbformat": 4,
 "nbformat_minor": 4
}
